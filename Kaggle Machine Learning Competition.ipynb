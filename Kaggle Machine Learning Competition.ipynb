{
  "nbformat": 4,
  "nbformat_minor": 0,
  "metadata": {
    "kernelspec": {
      "display_name": "Python 3",
      "language": "python",
      "name": "python3"
    },
    "language_info": {
      "codemirror_mode": {
        "name": "ipython",
        "version": 3
      },
      "file_extension": ".py",
      "mimetype": "text/x-python",
      "name": "python",
      "nbconvert_exporter": "python",
      "pygments_lexer": "ipython3",
      "version": "3.7.4"
    },
    "colab": {
      "name": "Игорь_Доставалов",
      "provenance": [],
      "collapsed_sections": []
    }
  },
  "cells": [
    {
      "cell_type": "markdown",
      "metadata": {
        "id": "TK7oX5qdEEYr"
      },
      "source": [
        "<p style=\"align: center;\"><img align=center src=\"https://s8.hostingkartinok.com/uploads/images/2018/08/308b49fcfbc619d629fe4604bceb67ac.jpg\" width=500 height=450/></p>\n",
        "\n",
        "<h3 style=\"text-align: center;\"><b>Школа глубокого обучения ФПМИ МФТИ</b></h3>\n",
        "\n",
        "<h3 style=\"text-align: center;\"><b>Домашнее задание. Продвинутый поток. Весна 2021</b></h3>\n",
        "\n",
        "Это домашнее задание будет посвящено полноценному решению задачи машинного обучения."
      ]
    },
    {
      "cell_type": "markdown",
      "metadata": {
        "id": "zlB-owfaEEYs"
      },
      "source": [
        "Есть две части этого домашнего задания: \n",
        "* Сделать полноценный отчет о вашей работе: как вы обработали данные, какие модели попробовали и какие результаты получились (максимум 10 баллов). За каждую выполненную часть будет начислено определенное количество баллов.\n",
        "* Лучшее решение отправить в соревнование на [kaggle](https://www.kaggle.com/c/advanced-dls-spring-2021/) (максимум 5 баллов). За прохождение определенного порогов будут начисляться баллы.\n",
        "\n",
        "\n",
        "**Обе части будут проверяться в формате peer-review. Т.е. вашу посылку на степик будут проверять несколько других студентов и аггрегация их оценок будет выставлена. В то же время вам тоже нужно будет проверить несколько других учеников.**\n",
        "\n",
        "**Пожалуйста, делайте свою работу чистой и понятной, чтобы облегчить проверку. Если у вас будут проблемы с решением или хочется совета, то пишите в наш чат в телеграме или в лс @runfme. Если вы захотите проаппелировать оценку, то пипшите в лс @runfme.**\n",
        "\n",
        "**Во всех пунктах указания это минимальный набор вещей, которые стоит сделать. Если вы можете сделать какой-то шаг лучше или добавить что-то свое - дерзайте!**"
      ]
    },
    {
      "cell_type": "markdown",
      "metadata": {
        "id": "Tu_JvqcBEN8Y"
      },
      "source": [
        "# Как проверять?\n",
        "\n",
        "Ставьте полный балл, если выполнены все рекомендации или сделано что-то более интересное и сложное. За каждый отсустствующий пункт из рекомендация снижайте 1 балл."
      ]
    },
    {
      "cell_type": "markdown",
      "metadata": {
        "id": "ninJ63mJEEYt"
      },
      "source": [
        "# Метрика\n",
        "\n",
        "Перед решением любой задачи важно понимать, как будет оцениваться ваше решение. В данном случае мы используем стандартную для задачи классификации метрику ROC-AUC. Ее можно вычислить используя только предсказанные вероятности и истинные классы без конкретного порога классификации + она раотает даже если классы в данных сильно несбалансированны (примеров одного класса в десятки раз больше примеров длугого). Именно поэтому она очень удобна для соревнований.\n",
        "\n",
        "Посчитать ее легко:\n"
      ]
    },
    {
      "cell_type": "code",
      "metadata": {
        "id": "SQIrka7yEEYu",
        "colab": {
          "base_uri": "https://localhost:8080/"
        },
        "outputId": "55da4139-84a0-4f21-fde4-d2a7fba5cec1"
      },
      "source": [
        "from sklearn.metrics import roc_auc_score\n",
        "\n",
        "y_true = [\n",
        "    0,\n",
        "    1,\n",
        "    1,\n",
        "    0,\n",
        "    1\n",
        "]\n",
        "\n",
        "y_predictions = [\n",
        "    0.1,\n",
        "    0.9,\n",
        "    0.4,\n",
        "    0.6,\n",
        "    0.61\n",
        "]\n",
        "\n",
        "roc_auc_score(y_true, y_predictions)"
      ],
      "execution_count": null,
      "outputs": [
        {
          "output_type": "execute_result",
          "data": {
            "text/plain": [
              "0.8333333333333333"
            ]
          },
          "metadata": {
            "tags": []
          },
          "execution_count": 1
        }
      ]
    },
    {
      "cell_type": "markdown",
      "metadata": {
        "id": "IrDNNkNTEEYz"
      },
      "source": [
        "# Первая часть. Исследование"
      ]
    },
    {
      "cell_type": "markdown",
      "metadata": {
        "id": "B-MpcY3p1Fmm"
      },
      "source": [
        "В каггл Игорь_Доставалов получил скор: 0.84544\r\n"
      ]
    },
    {
      "cell_type": "code",
      "metadata": {
        "id": "lzLqEeZKEEYz"
      },
      "source": [
        "import pandas as pd\n",
        "import numpy as np\n",
        "from matplotlib import pyplot as plt"
      ],
      "execution_count": null,
      "outputs": []
    },
    {
      "cell_type": "markdown",
      "metadata": {
        "id": "LOlxdURSEEY3"
      },
      "source": [
        "## Загрузка данных (2 балла)\n",
        "\n",
        "1) Посмотрите на случайные строчки. \n",
        "\n",
        "2) Посмотрите, есть ли в датасете незаполненные значения (nan'ы) с помощью data.isna() или data.info() и, если нужно, замените их на что-то. Будет хорошо, если вы построите табличку с количеством nan в каждой колонке."
      ]
    },
    {
      "cell_type": "code",
      "metadata": {
        "id": "pw-Brue9EEY3"
      },
      "source": [
        "data = pd.read_csv('./train.csv')"
      ],
      "execution_count": null,
      "outputs": []
    },
    {
      "cell_type": "code",
      "metadata": {
        "colab": {
          "base_uri": "https://localhost:8080/",
          "height": 292
        },
        "id": "8cYk0fwM3jpO",
        "outputId": "c8516427-d69f-4b22-d676-162fe3facc9c"
      },
      "source": [
        "data.head()"
      ],
      "execution_count": null,
      "outputs": [
        {
          "output_type": "execute_result",
          "data": {
            "text/html": [
              "<div>\n",
              "<style scoped>\n",
              "    .dataframe tbody tr th:only-of-type {\n",
              "        vertical-align: middle;\n",
              "    }\n",
              "\n",
              "    .dataframe tbody tr th {\n",
              "        vertical-align: top;\n",
              "    }\n",
              "\n",
              "    .dataframe thead th {\n",
              "        text-align: right;\n",
              "    }\n",
              "</style>\n",
              "<table border=\"1\" class=\"dataframe\">\n",
              "  <thead>\n",
              "    <tr style=\"text-align: right;\">\n",
              "      <th></th>\n",
              "      <th>ClientPeriod</th>\n",
              "      <th>MonthlySpending</th>\n",
              "      <th>TotalSpent</th>\n",
              "      <th>Sex</th>\n",
              "      <th>IsSeniorCitizen</th>\n",
              "      <th>HasPartner</th>\n",
              "      <th>HasChild</th>\n",
              "      <th>HasPhoneService</th>\n",
              "      <th>HasMultiplePhoneNumbers</th>\n",
              "      <th>HasInternetService</th>\n",
              "      <th>HasOnlineSecurityService</th>\n",
              "      <th>HasOnlineBackup</th>\n",
              "      <th>HasDeviceProtection</th>\n",
              "      <th>HasTechSupportAccess</th>\n",
              "      <th>HasOnlineTV</th>\n",
              "      <th>HasMovieSubscription</th>\n",
              "      <th>HasContractPhone</th>\n",
              "      <th>IsBillingPaperless</th>\n",
              "      <th>PaymentMethod</th>\n",
              "      <th>Churn</th>\n",
              "    </tr>\n",
              "  </thead>\n",
              "  <tbody>\n",
              "    <tr>\n",
              "      <th>0</th>\n",
              "      <td>55</td>\n",
              "      <td>19.50</td>\n",
              "      <td>1026.35</td>\n",
              "      <td>Male</td>\n",
              "      <td>0</td>\n",
              "      <td>Yes</td>\n",
              "      <td>Yes</td>\n",
              "      <td>Yes</td>\n",
              "      <td>No</td>\n",
              "      <td>No</td>\n",
              "      <td>No internet service</td>\n",
              "      <td>No internet service</td>\n",
              "      <td>No internet service</td>\n",
              "      <td>No internet service</td>\n",
              "      <td>No internet service</td>\n",
              "      <td>No internet service</td>\n",
              "      <td>One year</td>\n",
              "      <td>No</td>\n",
              "      <td>Mailed check</td>\n",
              "      <td>0</td>\n",
              "    </tr>\n",
              "    <tr>\n",
              "      <th>1</th>\n",
              "      <td>72</td>\n",
              "      <td>25.85</td>\n",
              "      <td>1872.2</td>\n",
              "      <td>Male</td>\n",
              "      <td>0</td>\n",
              "      <td>Yes</td>\n",
              "      <td>No</td>\n",
              "      <td>Yes</td>\n",
              "      <td>Yes</td>\n",
              "      <td>No</td>\n",
              "      <td>No internet service</td>\n",
              "      <td>No internet service</td>\n",
              "      <td>No internet service</td>\n",
              "      <td>No internet service</td>\n",
              "      <td>No internet service</td>\n",
              "      <td>No internet service</td>\n",
              "      <td>Two year</td>\n",
              "      <td>No</td>\n",
              "      <td>Credit card (automatic)</td>\n",
              "      <td>0</td>\n",
              "    </tr>\n",
              "    <tr>\n",
              "      <th>2</th>\n",
              "      <td>1</td>\n",
              "      <td>75.90</td>\n",
              "      <td>75.9</td>\n",
              "      <td>Male</td>\n",
              "      <td>0</td>\n",
              "      <td>No</td>\n",
              "      <td>No</td>\n",
              "      <td>Yes</td>\n",
              "      <td>No</td>\n",
              "      <td>Fiber optic</td>\n",
              "      <td>No</td>\n",
              "      <td>No</td>\n",
              "      <td>No</td>\n",
              "      <td>Yes</td>\n",
              "      <td>No</td>\n",
              "      <td>No</td>\n",
              "      <td>Month-to-month</td>\n",
              "      <td>Yes</td>\n",
              "      <td>Electronic check</td>\n",
              "      <td>1</td>\n",
              "    </tr>\n",
              "    <tr>\n",
              "      <th>3</th>\n",
              "      <td>32</td>\n",
              "      <td>79.30</td>\n",
              "      <td>2570</td>\n",
              "      <td>Female</td>\n",
              "      <td>1</td>\n",
              "      <td>Yes</td>\n",
              "      <td>No</td>\n",
              "      <td>Yes</td>\n",
              "      <td>Yes</td>\n",
              "      <td>Fiber optic</td>\n",
              "      <td>No</td>\n",
              "      <td>No</td>\n",
              "      <td>Yes</td>\n",
              "      <td>No</td>\n",
              "      <td>No</td>\n",
              "      <td>No</td>\n",
              "      <td>Month-to-month</td>\n",
              "      <td>No</td>\n",
              "      <td>Mailed check</td>\n",
              "      <td>0</td>\n",
              "    </tr>\n",
              "    <tr>\n",
              "      <th>4</th>\n",
              "      <td>60</td>\n",
              "      <td>115.25</td>\n",
              "      <td>6758.45</td>\n",
              "      <td>Female</td>\n",
              "      <td>0</td>\n",
              "      <td>Yes</td>\n",
              "      <td>Yes</td>\n",
              "      <td>Yes</td>\n",
              "      <td>Yes</td>\n",
              "      <td>Fiber optic</td>\n",
              "      <td>Yes</td>\n",
              "      <td>Yes</td>\n",
              "      <td>Yes</td>\n",
              "      <td>Yes</td>\n",
              "      <td>Yes</td>\n",
              "      <td>Yes</td>\n",
              "      <td>Two year</td>\n",
              "      <td>No</td>\n",
              "      <td>Credit card (automatic)</td>\n",
              "      <td>0</td>\n",
              "    </tr>\n",
              "  </tbody>\n",
              "</table>\n",
              "</div>"
            ],
            "text/plain": [
              "   ClientPeriod  MonthlySpending  ...            PaymentMethod Churn\n",
              "0            55            19.50  ...             Mailed check     0\n",
              "1            72            25.85  ...  Credit card (automatic)     0\n",
              "2             1            75.90  ...         Electronic check     1\n",
              "3            32            79.30  ...             Mailed check     0\n",
              "4            60           115.25  ...  Credit card (automatic)     0\n",
              "\n",
              "[5 rows x 20 columns]"
            ]
          },
          "metadata": {
            "tags": []
          },
          "execution_count": 4
        }
      ]
    },
    {
      "cell_type": "code",
      "metadata": {
        "id": "KgnkkF5bEEY9"
      },
      "source": [
        "# Для вашего удобства списки с именами разных колонок\n",
        "\n",
        "# Числовые признаки\n",
        "num_cols = [\n",
        "    'ClientPeriod',\n",
        "    'MonthlySpending',\n",
        "    'TotalSpent'\n",
        "]\n",
        "\n",
        "# Категориальные признаки\n",
        "cat_cols = [\n",
        "    'Sex',\n",
        "    'IsSeniorCitizen',\n",
        "    'HasPartner',\n",
        "    'HasChild',\n",
        "    'HasPhoneService',\n",
        "    'HasMultiplePhoneNumbers',\n",
        "    'HasInternetService',\n",
        "    'HasOnlineSecurityService',\n",
        "    'HasOnlineBackup',\n",
        "    'HasDeviceProtection',\n",
        "    'HasTechSupportAccess',\n",
        "    'HasOnlineTV',\n",
        "    'HasMovieSubscription',\n",
        "    'HasContractPhone',\n",
        "    'IsBillingPaperless',\n",
        "    'PaymentMethod'\n",
        "]\n",
        "\n",
        "feature_cols = num_cols + cat_cols\n",
        "target_col = 'Churn'"
      ],
      "execution_count": null,
      "outputs": []
    },
    {
      "cell_type": "code",
      "metadata": {
        "id": "HmLiI-EW3G4C",
        "colab": {
          "base_uri": "https://localhost:8080/"
        },
        "outputId": "6a2b0bee-a987-47c7-c4b4-4f87af2becf4"
      },
      "source": [
        "data.isna().sum() #вот собственно и табличка с nan\r\n",
        "#но есть пробелы, надо бы и их убрать"
      ],
      "execution_count": null,
      "outputs": [
        {
          "output_type": "execute_result",
          "data": {
            "text/plain": [
              "ClientPeriod                0\n",
              "MonthlySpending             0\n",
              "TotalSpent                  0\n",
              "Sex                         0\n",
              "IsSeniorCitizen             0\n",
              "HasPartner                  0\n",
              "HasChild                    0\n",
              "HasPhoneService             0\n",
              "HasMultiplePhoneNumbers     0\n",
              "HasInternetService          0\n",
              "HasOnlineSecurityService    0\n",
              "HasOnlineBackup             0\n",
              "HasDeviceProtection         0\n",
              "HasTechSupportAccess        0\n",
              "HasOnlineTV                 0\n",
              "HasMovieSubscription        0\n",
              "HasContractPhone            0\n",
              "IsBillingPaperless          0\n",
              "PaymentMethod               0\n",
              "Churn                       0\n",
              "dtype: int64"
            ]
          },
          "metadata": {
            "tags": []
          },
          "execution_count": 6
        }
      ]
    },
    {
      "cell_type": "code",
      "metadata": {
        "id": "bHvli0dtO2Fe"
      },
      "source": [
        "#data.replace(' ', np.nan, inplace = True)\r\n",
        "def check_spaces(some_data):\r\n",
        "    bad_indices = []\r\n",
        "    for col in num_cols:\r\n",
        "        print(\"column = \", col)\r\n",
        "        for i in range(len(some_data[col])):\r\n",
        "            if some_data[col][i] == ' ':\r\n",
        "                bad_indices.append(i)\r\n",
        "                print(i)\r\n",
        "\r\n",
        "    print()\r\n",
        "    for cat_col in cat_cols:\r\n",
        "        print(\"cat column = \", cat_col)\r\n",
        "        print((some_data[cat_col] == ' ').sum())\r\n",
        "        for i in range(len(some_data[cat_col])):\r\n",
        "            if some_data[cat_col][i] == ' ':\r\n",
        "                bad_indices.append(i)\r\n",
        "                print(i)\r\n",
        "    return list(set(bad_indices))"
      ],
      "execution_count": null,
      "outputs": []
    },
    {
      "cell_type": "code",
      "metadata": {
        "id": "dECZ8shT20qe",
        "colab": {
          "base_uri": "https://localhost:8080/"
        },
        "outputId": "46462bd4-3735-49ed-a78f-623638a34fde"
      },
      "source": [
        "data.drop(check_spaces(data), inplace=True)"
      ],
      "execution_count": null,
      "outputs": [
        {
          "output_type": "stream",
          "text": [
            "column =  ClientPeriod\n",
            "column =  MonthlySpending\n",
            "column =  TotalSpent\n",
            "1048\n",
            "1707\n",
            "2543\n",
            "3078\n",
            "3697\n",
            "4002\n",
            "4326\n",
            "4551\n",
            "4598\n",
            "\n",
            "cat column =  Sex\n",
            "0\n",
            "cat column =  IsSeniorCitizen\n",
            "0\n",
            "cat column =  HasPartner\n",
            "0\n",
            "cat column =  HasChild\n",
            "0\n",
            "cat column =  HasPhoneService\n",
            "0\n",
            "cat column =  HasMultiplePhoneNumbers\n",
            "0\n",
            "cat column =  HasInternetService\n",
            "0\n",
            "cat column =  HasOnlineSecurityService\n",
            "0\n",
            "cat column =  HasOnlineBackup\n",
            "0\n",
            "cat column =  HasDeviceProtection\n",
            "0\n",
            "cat column =  HasTechSupportAccess\n",
            "0\n",
            "cat column =  HasOnlineTV\n",
            "0\n",
            "cat column =  HasMovieSubscription\n",
            "0\n",
            "cat column =  HasContractPhone\n",
            "0\n",
            "cat column =  IsBillingPaperless\n",
            "0\n",
            "cat column =  PaymentMethod\n",
            "0\n"
          ],
          "name": "stdout"
        }
      ]
    },
    {
      "cell_type": "code",
      "metadata": {
        "id": "tHC6gWabEEZA"
      },
      "source": [
        "data['TotalSpent'] = pd.to_numeric(data['TotalSpent'])"
      ],
      "execution_count": null,
      "outputs": []
    },
    {
      "cell_type": "markdown",
      "metadata": {
        "id": "dK370bPCEEZD"
      },
      "source": [
        "## Анализ данных (3 балла)\n",
        "\n",
        "1) Для численных призанков постройте гистограмму (*plt.hist(...)*) или boxplot (*plt.boxplot(...)*). Для категориальных посчитайте количество каждого значения для каждого признака. Для каждой колонки надо сделать *data.value_counts()* и построить bar диаграммы *plt.bar(...)* или круговые диаграммы *plt.pie(...)* (хорошо, елси вы сможете это сделать на одном гарфике с помощью *plt.subplots(...)*). \n",
        "\n",
        "2) Посмотрите на распределение целевой переменной и скажите, являются ли классы несбалансированными.\n",
        "\n",
        "3) (Если будет желание) Поиграйте с разными библиотеками для визуализации - *sns*, *pandas_visual_analysis*, etc.\n",
        "\n",
        "Второй пункт очень важен, потому что существуют задачи классификации с несбалансированными классами. Например, это может значить, что в датасете намного больше примеров 0 класса. В таких случаях нужно 1) не использовать accuracy как метрику 2) использовать методы борьбы с imbalanced dataset (обычно если датасет сильно несбалансирован, т.е. класса 1 в 20 раз меньше класса 0)."
      ]
    },
    {
      "cell_type": "code",
      "metadata": {
        "id": "NZkbgFJZEEZE",
        "colab": {
          "base_uri": "https://localhost:8080/",
          "height": 281
        },
        "outputId": "1c19a6e8-47d6-4a7c-df98-ce2f835a4a8e"
      },
      "source": [
        "fig, axs = plt.subplots(1,3, figsize = (15,4))\r\n",
        "for  i, col in enumerate(num_cols):\r\n",
        "    axs[i].hist(data[col])\r\n",
        "    axs[i].title.set_text(col)"
      ],
      "execution_count": null,
      "outputs": [
        {
          "output_type": "display_data",
          "data": {
            "image/png": "[encoded data removed]",
            "text/plain": [
              "<Figure size 1080x288 with 3 Axes>"
            ]
          },
          "metadata": {
            "tags": [],
            "needs_background": "light"
          }
        }
      ]
    },
    {
      "cell_type": "code",
      "metadata": {
        "colab": {
          "base_uri": "https://localhost:8080/"
        },
        "id": "zkIHZFmE73D-",
        "outputId": "a73cd671-a155-45f5-cbe0-6f5196c56329"
      },
      "source": [
        "for col in cat_cols:\r\n",
        "    print(data[col].value_counts(), '\\n\\n')"
      ],
      "execution_count": null,
      "outputs": [
        {
          "output_type": "stream",
          "text": [
            "Male      2651\n",
            "Female    2622\n",
            "Name: Sex, dtype: int64 \n",
            "\n",
            "\n",
            "0    4431\n",
            "1     842\n",
            "Name: IsSeniorCitizen, dtype: int64 \n",
            "\n",
            "\n",
            "No     2704\n",
            "Yes    2569\n",
            "Name: HasPartner, dtype: int64 \n",
            "\n",
            "\n",
            "No     3676\n",
            "Yes    1597\n",
            "Name: HasChild, dtype: int64 \n",
            "\n",
            "\n",
            "Yes    4754\n",
            "No      519\n",
            "Name: HasPhoneService, dtype: int64 \n",
            "\n",
            "\n",
            "No                  2508\n",
            "Yes                 2246\n",
            "No phone service     519\n",
            "Name: HasMultiplePhoneNumbers, dtype: int64 \n",
            "\n",
            "\n",
            "Fiber optic    2341\n",
            "DSL            1795\n",
            "No             1137\n",
            "Name: HasInternetService, dtype: int64 \n",
            "\n",
            "\n",
            "No                     2611\n",
            "Yes                    1525\n",
            "No internet service    1137\n",
            "Name: HasOnlineSecurityService, dtype: int64 \n",
            "\n",
            "\n",
            "No                     2331\n",
            "Yes                    1805\n",
            "No internet service    1137\n",
            "Name: HasOnlineBackup, dtype: int64 \n",
            "\n",
            "\n",
            "No                     2316\n",
            "Yes                    1820\n",
            "No internet service    1137\n",
            "Name: HasDeviceProtection, dtype: int64 \n",
            "\n",
            "\n",
            "No                     2603\n",
            "Yes                    1533\n",
            "No internet service    1137\n",
            "Name: HasTechSupportAccess, dtype: int64 \n",
            "\n",
            "\n",
            "No                     2098\n",
            "Yes                    2038\n",
            "No internet service    1137\n",
            "Name: HasOnlineTV, dtype: int64 \n",
            "\n",
            "\n",
            "No                     2077\n",
            "Yes                    2059\n",
            "No internet service    1137\n",
            "Name: HasMovieSubscription, dtype: int64 \n",
            "\n",
            "\n",
            "Month-to-month    2920\n",
            "Two year          1272\n",
            "One year          1081\n",
            "Name: HasContractPhone, dtype: int64 \n",
            "\n",
            "\n",
            "Yes    3145\n",
            "No     2128\n",
            "Name: IsBillingPaperless, dtype: int64 \n",
            "\n",
            "\n",
            "Electronic check             1786\n",
            "Mailed check                 1188\n",
            "Bank transfer (automatic)    1157\n",
            "Credit card (automatic)      1142\n",
            "Name: PaymentMethod, dtype: int64 \n",
            "\n",
            "\n"
          ],
          "name": "stdout"
        }
      ]
    },
    {
      "cell_type": "markdown",
      "metadata": {
        "id": "CmnNOBYn-ngN"
      },
      "source": [
        "Как мы видим, если придерживаться определению несбалансированного класса (в 20 раз больше), то в данной выборке все классы более или менее сбалансированы\r\n"
      ]
    },
    {
      "cell_type": "code",
      "metadata": {
        "colab": {
          "base_uri": "https://localhost:8080/",
          "height": 845
        },
        "id": "ww4HoN7n-k6p",
        "outputId": "6b6aebf5-9ece-415e-b4d0-c6026fba1784"
      },
      "source": [
        "nums = ((0,0),(0,1),(0,2),(0,3),(1,0),(1,1),(1,2),(1,3),(2,0),(2,1),(2,2),(2,3),(3,0),(3,1),(3,2),(3,3))\r\n",
        "fig, axs = plt.subplots(4,4, figsize = (20,20))\r\n",
        "for  (i, j), col in zip(nums, cat_cols):\r\n",
        "    axs[i,j].pie(data[col].value_counts(), labels = data[col].value_counts().keys())\r\n",
        "    axs[i,j].title.set_text(col)"
      ],
      "execution_count": null,
      "outputs": [
        {
          "output_type": "display_data",
          "data": {
            "image/png": "[encoded data removed]",
            "text/plain": [
              "<Figure size 1440x1440 with 16 Axes>"
            ]
          },
          "metadata": {
            "tags": []
          }
        }
      ]
    },
    {
      "cell_type": "markdown",
      "metadata": {
        "id": "zg60u3QDEEZH"
      },
      "source": [
        "(Дополнительно) Если вы нашли какие-то ошибки в данных или выбросы, то можете их убрать. Тут можно поэксперементировать с обработкой данных как угодно, но не за баллы."
      ]
    },
    {
      "cell_type": "code",
      "metadata": {
        "id": "fwfksF1gEEZI"
      },
      "source": [
        "# YOUR CODE"
      ],
      "execution_count": null,
      "outputs": []
    },
    {
      "cell_type": "markdown",
      "metadata": {
        "id": "DviiJd8REEZK"
      },
      "source": [
        "## Применение линейных моделей (3 балла)\n",
        "\n",
        "1) Обработайте данные для того, чтобы к ним можно было применить LogisticRegression. Т.е. отнормируйте числовые признаки, а категориальные закодируйте с помощью one-hot-encoding'а. \n",
        "\n",
        "2) С помощью кроссвалидации или разделения на train/valid выборку протестируйте разные значения гиперпараметра C и выберите лучший (можно тестировать С=100, 10, 1, 0.1, 0.01, 0.001) по метрике ROC-AUC. \n",
        "\n",
        "Если вы разделяете на train/valid, то используйте LogisticRegressionCV. Он сам при вызове .fit() подберет параметр С. (не забудьте передать scroing='roc_auc', чтобы при кроссвалидации сравнивались значения этой метрики, и refit=True, чтобы при потом модель обучилась на всем датасете с лучшим параметром C). \n",
        "\n",
        "\n",
        "(более сложный вариант) Если вы будете использовать кроссвалидацию, то преобразования данных и LogisticRegression нужно соединить в один Pipeline с помощью make_pipeline, как это делалось во втором семинаре. Потом pipeline надо передать в GridSearchCV. Для one-hot-encoding'a можно испльзовать комбинацию LabelEncoder + OneHotEncoder (сначала превращаем строчки в числа, а потом числа првращаем в one-hot вектора.)"
      ]
    },
    {
      "cell_type": "code",
      "metadata": {
        "id": "xHCLDmwqEEZL"
      },
      "source": [
        "from sklearn.linear_model import LogisticRegression, LogisticRegressionCV\n",
        "from sklearn.model_selection import train_test_split, GridSearchCV\n",
        "from sklearn.preprocessing import StandardScaler, RobustScaler, LabelEncoder, OneHotEncoder\n",
        "from sklearn.pipeline import make_pipeline"
      ],
      "execution_count": null,
      "outputs": []
    },
    {
      "cell_type": "code",
      "metadata": {
        "id": "P2Yv3uYtEEZO",
        "colab": {
          "base_uri": "https://localhost:8080/",
          "height": 258
        },
        "outputId": "1d046544-6ea4-447c-90ec-28a027f67bbb"
      },
      "source": [
        "dummy_cats = pd.get_dummies(data[cat_cols])\r\n",
        "scaler = StandardScaler()\r\n",
        "data[num_cols] = scaler.fit_transform(data[num_cols])\r\n",
        "norm_data = pd.concat([data[num_cols],dummy_cats,data[target_col]],axis = 1)\r\n",
        "norm_data.head()"
      ],
      "execution_count": null,
      "outputs": [
        {
          "output_type": "execute_result",
          "data": {
            "text/html": [
              "<div>\n",
              "<style scoped>\n",
              "    .dataframe tbody tr th:only-of-type {\n",
              "        vertical-align: middle;\n",
              "    }\n",
              "\n",
              "    .dataframe tbody tr th {\n",
              "        vertical-align: top;\n",
              "    }\n",
              "\n",
              "    .dataframe thead th {\n",
              "        text-align: right;\n",
              "    }\n",
              "</style>\n",
              "<table border=\"1\" class=\"dataframe\">\n",
              "  <thead>\n",
              "    <tr style=\"text-align: right;\">\n",
              "      <th></th>\n",
              "      <th>ClientPeriod</th>\n",
              "      <th>MonthlySpending</th>\n",
              "      <th>TotalSpent</th>\n",
              "      <th>IsSeniorCitizen</th>\n",
              "      <th>Sex_Female</th>\n",
              "      <th>Sex_Male</th>\n",
              "      <th>HasPartner_No</th>\n",
              "      <th>HasPartner_Yes</th>\n",
              "      <th>HasChild_No</th>\n",
              "      <th>HasChild_Yes</th>\n",
              "      <th>HasPhoneService_No</th>\n",
              "      <th>HasPhoneService_Yes</th>\n",
              "      <th>HasMultiplePhoneNumbers_No</th>\n",
              "      <th>HasMultiplePhoneNumbers_No phone service</th>\n",
              "      <th>HasMultiplePhoneNumbers_Yes</th>\n",
              "      <th>HasInternetService_DSL</th>\n",
              "      <th>HasInternetService_Fiber optic</th>\n",
              "      <th>HasInternetService_No</th>\n",
              "      <th>HasOnlineSecurityService_No</th>\n",
              "      <th>HasOnlineSecurityService_No internet service</th>\n",
              "      <th>HasOnlineSecurityService_Yes</th>\n",
              "      <th>HasOnlineBackup_No</th>\n",
              "      <th>HasOnlineBackup_No internet service</th>\n",
              "      <th>HasOnlineBackup_Yes</th>\n",
              "      <th>HasDeviceProtection_No</th>\n",
              "      <th>HasDeviceProtection_No internet service</th>\n",
              "      <th>HasDeviceProtection_Yes</th>\n",
              "      <th>HasTechSupportAccess_No</th>\n",
              "      <th>HasTechSupportAccess_No internet service</th>\n",
              "      <th>HasTechSupportAccess_Yes</th>\n",
              "      <th>HasOnlineTV_No</th>\n",
              "      <th>HasOnlineTV_No internet service</th>\n",
              "      <th>HasOnlineTV_Yes</th>\n",
              "      <th>HasMovieSubscription_No</th>\n",
              "      <th>HasMovieSubscription_No internet service</th>\n",
              "      <th>HasMovieSubscription_Yes</th>\n",
              "      <th>HasContractPhone_Month-to-month</th>\n",
              "      <th>HasContractPhone_One year</th>\n",
              "      <th>HasContractPhone_Two year</th>\n",
              "      <th>IsBillingPaperless_No</th>\n",
              "      <th>IsBillingPaperless_Yes</th>\n",
              "      <th>PaymentMethod_Bank transfer (automatic)</th>\n",
              "      <th>PaymentMethod_Credit card (automatic)</th>\n",
              "      <th>PaymentMethod_Electronic check</th>\n",
              "      <th>PaymentMethod_Mailed check</th>\n",
              "      <th>Churn</th>\n",
              "    </tr>\n",
              "  </thead>\n",
              "  <tbody>\n",
              "    <tr>\n",
              "      <th>0</th>\n",
              "      <td>0.919099</td>\n",
              "      <td>-1.506436</td>\n",
              "      <td>-0.557582</td>\n",
              "      <td>0</td>\n",
              "      <td>0</td>\n",
              "      <td>1</td>\n",
              "      <td>0</td>\n",
              "      <td>1</td>\n",
              "      <td>0</td>\n",
              "      <td>1</td>\n",
              "      <td>0</td>\n",
              "      <td>1</td>\n",
              "      <td>1</td>\n",
              "      <td>0</td>\n",
              "      <td>0</td>\n",
              "      <td>0</td>\n",
              "      <td>0</td>\n",
              "      <td>1</td>\n",
              "      <td>0</td>\n",
              "      <td>1</td>\n",
              "      <td>0</td>\n",
              "      <td>0</td>\n",
              "      <td>1</td>\n",
              "      <td>0</td>\n",
              "      <td>0</td>\n",
              "      <td>1</td>\n",
              "      <td>0</td>\n",
              "      <td>0</td>\n",
              "      <td>1</td>\n",
              "      <td>0</td>\n",
              "      <td>0</td>\n",
              "      <td>1</td>\n",
              "      <td>0</td>\n",
              "      <td>0</td>\n",
              "      <td>1</td>\n",
              "      <td>0</td>\n",
              "      <td>0</td>\n",
              "      <td>1</td>\n",
              "      <td>0</td>\n",
              "      <td>1</td>\n",
              "      <td>0</td>\n",
              "      <td>0</td>\n",
              "      <td>0</td>\n",
              "      <td>0</td>\n",
              "      <td>1</td>\n",
              "      <td>0</td>\n",
              "    </tr>\n",
              "    <tr>\n",
              "      <th>1</th>\n",
              "      <td>1.612060</td>\n",
              "      <td>-1.295997</td>\n",
              "      <td>-0.184763</td>\n",
              "      <td>0</td>\n",
              "      <td>0</td>\n",
              "      <td>1</td>\n",
              "      <td>0</td>\n",
              "      <td>1</td>\n",
              "      <td>1</td>\n",
              "      <td>0</td>\n",
              "      <td>0</td>\n",
              "      <td>1</td>\n",
              "      <td>0</td>\n",
              "      <td>0</td>\n",
              "      <td>1</td>\n",
              "      <td>0</td>\n",
              "      <td>0</td>\n",
              "      <td>1</td>\n",
              "      <td>0</td>\n",
              "      <td>1</td>\n",
              "      <td>0</td>\n",
              "      <td>0</td>\n",
              "      <td>1</td>\n",
              "      <td>0</td>\n",
              "      <td>0</td>\n",
              "      <td>1</td>\n",
              "      <td>0</td>\n",
              "      <td>0</td>\n",
              "      <td>1</td>\n",
              "      <td>0</td>\n",
              "      <td>0</td>\n",
              "      <td>1</td>\n",
              "      <td>0</td>\n",
              "      <td>0</td>\n",
              "      <td>1</td>\n",
              "      <td>0</td>\n",
              "      <td>0</td>\n",
              "      <td>0</td>\n",
              "      <td>1</td>\n",
              "      <td>1</td>\n",
              "      <td>0</td>\n",
              "      <td>0</td>\n",
              "      <td>1</td>\n",
              "      <td>0</td>\n",
              "      <td>0</td>\n",
              "      <td>0</td>\n",
              "    </tr>\n",
              "    <tr>\n",
              "      <th>2</th>\n",
              "      <td>-1.282072</td>\n",
              "      <td>0.362658</td>\n",
              "      <td>-0.976504</td>\n",
              "      <td>0</td>\n",
              "      <td>0</td>\n",
              "      <td>1</td>\n",
              "      <td>1</td>\n",
              "      <td>0</td>\n",
              "      <td>1</td>\n",
              "      <td>0</td>\n",
              "      <td>0</td>\n",
              "      <td>1</td>\n",
              "      <td>1</td>\n",
              "      <td>0</td>\n",
              "      <td>0</td>\n",
              "      <td>0</td>\n",
              "      <td>1</td>\n",
              "      <td>0</td>\n",
              "      <td>1</td>\n",
              "      <td>0</td>\n",
              "      <td>0</td>\n",
              "      <td>1</td>\n",
              "      <td>0</td>\n",
              "      <td>0</td>\n",
              "      <td>1</td>\n",
              "      <td>0</td>\n",
              "      <td>0</td>\n",
              "      <td>0</td>\n",
              "      <td>0</td>\n",
              "      <td>1</td>\n",
              "      <td>1</td>\n",
              "      <td>0</td>\n",
              "      <td>0</td>\n",
              "      <td>1</td>\n",
              "      <td>0</td>\n",
              "      <td>0</td>\n",
              "      <td>1</td>\n",
              "      <td>0</td>\n",
              "      <td>0</td>\n",
              "      <td>0</td>\n",
              "      <td>1</td>\n",
              "      <td>0</td>\n",
              "      <td>0</td>\n",
              "      <td>1</td>\n",
              "      <td>0</td>\n",
              "      <td>1</td>\n",
              "    </tr>\n",
              "    <tr>\n",
              "      <th>3</th>\n",
              "      <td>-0.018437</td>\n",
              "      <td>0.475334</td>\n",
              "      <td>0.122800</td>\n",
              "      <td>1</td>\n",
              "      <td>1</td>\n",
              "      <td>0</td>\n",
              "      <td>0</td>\n",
              "      <td>1</td>\n",
              "      <td>1</td>\n",
              "      <td>0</td>\n",
              "      <td>0</td>\n",
              "      <td>1</td>\n",
              "      <td>0</td>\n",
              "      <td>0</td>\n",
              "      <td>1</td>\n",
              "      <td>0</td>\n",
              "      <td>1</td>\n",
              "      <td>0</td>\n",
              "      <td>1</td>\n",
              "      <td>0</td>\n",
              "      <td>0</td>\n",
              "      <td>1</td>\n",
              "      <td>0</td>\n",
              "      <td>0</td>\n",
              "      <td>0</td>\n",
              "      <td>0</td>\n",
              "      <td>1</td>\n",
              "      <td>1</td>\n",
              "      <td>0</td>\n",
              "      <td>0</td>\n",
              "      <td>1</td>\n",
              "      <td>0</td>\n",
              "      <td>0</td>\n",
              "      <td>1</td>\n",
              "      <td>0</td>\n",
              "      <td>0</td>\n",
              "      <td>1</td>\n",
              "      <td>0</td>\n",
              "      <td>0</td>\n",
              "      <td>1</td>\n",
              "      <td>0</td>\n",
              "      <td>0</td>\n",
              "      <td>0</td>\n",
              "      <td>0</td>\n",
              "      <td>1</td>\n",
              "      <td>0</td>\n",
              "    </tr>\n",
              "    <tr>\n",
              "      <th>4</th>\n",
              "      <td>1.122911</td>\n",
              "      <td>1.666716</td>\n",
              "      <td>1.968909</td>\n",
              "      <td>0</td>\n",
              "      <td>1</td>\n",
              "      <td>0</td>\n",
              "      <td>0</td>\n",
              "      <td>1</td>\n",
              "      <td>0</td>\n",
              "      <td>1</td>\n",
              "      <td>0</td>\n",
              "      <td>1</td>\n",
              "      <td>0</td>\n",
              "      <td>0</td>\n",
              "      <td>1</td>\n",
              "      <td>0</td>\n",
              "      <td>1</td>\n",
              "      <td>0</td>\n",
              "      <td>0</td>\n",
              "      <td>0</td>\n",
              "      <td>1</td>\n",
              "      <td>0</td>\n",
              "      <td>0</td>\n",
              "      <td>1</td>\n",
              "      <td>0</td>\n",
              "      <td>0</td>\n",
              "      <td>1</td>\n",
              "      <td>0</td>\n",
              "      <td>0</td>\n",
              "      <td>1</td>\n",
              "      <td>0</td>\n",
              "      <td>0</td>\n",
              "      <td>1</td>\n",
              "      <td>0</td>\n",
              "      <td>0</td>\n",
              "      <td>1</td>\n",
              "      <td>0</td>\n",
              "      <td>0</td>\n",
              "      <td>1</td>\n",
              "      <td>1</td>\n",
              "      <td>0</td>\n",
              "      <td>0</td>\n",
              "      <td>1</td>\n",
              "      <td>0</td>\n",
              "      <td>0</td>\n",
              "      <td>0</td>\n",
              "    </tr>\n",
              "  </tbody>\n",
              "</table>\n",
              "</div>"
            ],
            "text/plain": [
              "   ClientPeriod  MonthlySpending  ...  PaymentMethod_Mailed check  Churn\n",
              "0      0.919099        -1.506436  ...                           1      0\n",
              "1      1.612060        -1.295997  ...                           0      0\n",
              "2     -1.282072         0.362658  ...                           0      1\n",
              "3     -0.018437         0.475334  ...                           1      0\n",
              "4      1.122911         1.666716  ...                           0      0\n",
              "\n",
              "[5 rows x 46 columns]"
            ]
          },
          "metadata": {
            "tags": []
          },
          "execution_count": 15
        }
      ]
    },
    {
      "cell_type": "code",
      "metadata": {
        "id": "nMtxUotU5xlL"
      },
      "source": [
        "norm_train_data = norm_data.drop(columns=target_col)\r\n",
        "norm_train_y = norm_data[target_col]\r\n",
        "X_train, X_val, y_train, y_val = train_test_split(norm_train_data, \r\n",
        "                                                    norm_train_y,\r\n",
        "                                                    test_size = 0.2, random_state = 42)"
      ],
      "execution_count": null,
      "outputs": []
    },
    {
      "cell_type": "code",
      "metadata": {
        "colab": {
          "base_uri": "https://localhost:8080/"
        },
        "id": "aB7bPO8y-uXu",
        "outputId": "86a23d0f-8841-4dbd-909f-4fc8e8bb5811"
      },
      "source": [
        "#model = LogisticRegressionCV(scoring='roc_auc')\r\n",
        "model = LogisticRegression(C=1)\r\n",
        "model.fit(X_train, y_train)\r\n",
        "predictions = model.predict_proba(X_val)[:,1]\r\n",
        "roc_auc_score(y_val, predictions)"
      ],
      "execution_count": null,
      "outputs": [
        {
          "output_type": "execute_result",
          "data": {
            "text/plain": [
              "0.8443312101910828"
            ]
          },
          "metadata": {
            "tags": []
          },
          "execution_count": 17
        }
      ]
    },
    {
      "cell_type": "code",
      "metadata": {
        "colab": {
          "base_uri": "https://localhost:8080/"
        },
        "id": "zkZdUQo3D753",
        "outputId": "3ca19a65-c228-43e2-e393-9f28aae8bdb5"
      },
      "source": [
        "parameters = {\r\n",
        "    'C': [100,10,1,0.1,0.01,0.001]\r\n",
        "}\r\n",
        "cv_model = GridSearchCV(estimator=model,param_grid=parameters, scoring='roc_auc', \r\n",
        "                        cv = 5, n_jobs=-1, verbose =10)\r\n",
        "cv_model.fit(X_train, y_train)"
      ],
      "execution_count": null,
      "outputs": [
        {
          "output_type": "stream",
          "text": [
            "Fitting 5 folds for each of 6 candidates, totalling 30 fits\n"
          ],
          "name": "stdout"
        },
        {
          "output_type": "stream",
          "text": [
            "[Parallel(n_jobs=-1)]: Using backend LokyBackend with 2 concurrent workers.\n",
            "[Parallel(n_jobs=-1)]: Done   1 tasks      | elapsed:    1.2s\n",
            "[Parallel(n_jobs=-1)]: Done   4 tasks      | elapsed:    1.4s\n",
            "[Parallel(n_jobs=-1)]: Done   9 tasks      | elapsed:    1.8s\n",
            "[Parallel(n_jobs=-1)]: Done  14 tasks      | elapsed:    2.1s\n",
            "[Parallel(n_jobs=-1)]: Done  21 tasks      | elapsed:    2.3s\n",
            "[Parallel(n_jobs=-1)]: Batch computation too fast (0.1937s.) Setting batch_size=2.\n",
            "[Parallel(n_jobs=-1)]: Done  30 out of  30 | elapsed:    2.5s finished\n"
          ],
          "name": "stderr"
        },
        {
          "output_type": "execute_result",
          "data": {
            "text/plain": [
              "GridSearchCV(cv=5, error_score=nan,\n",
              "             estimator=LogisticRegression(C=1, class_weight=None, dual=False,\n",
              "                                          fit_intercept=True,\n",
              "                                          intercept_scaling=1, l1_ratio=None,\n",
              "                                          max_iter=100, multi_class='auto',\n",
              "                                          n_jobs=None, penalty='l2',\n",
              "                                          random_state=None, solver='lbfgs',\n",
              "                                          tol=0.0001, verbose=0,\n",
              "                                          warm_start=False),\n",
              "             iid='deprecated', n_jobs=-1,\n",
              "             param_grid={'C': [100, 10, 1, 0.1, 0.01, 0.001]},\n",
              "             pre_dispatch='2*n_jobs', refit=True, return_train_score=False,\n",
              "             scoring='roc_auc', verbose=10)"
            ]
          },
          "metadata": {
            "tags": []
          },
          "execution_count": 18
        }
      ]
    },
    {
      "cell_type": "code",
      "metadata": {
        "colab": {
          "base_uri": "https://localhost:8080/"
        },
        "id": "x3tt1A6bEuS8",
        "outputId": "9817b5c4-75ed-4561-b65e-1cef5ed1d1d7"
      },
      "source": [
        "roc_auc_score(y_val, cv_model.best_estimator_.predict_proba(X_val)[:,1])"
      ],
      "execution_count": null,
      "outputs": [
        {
          "output_type": "execute_result",
          "data": {
            "text/plain": [
              "0.8439773531493278"
            ]
          },
          "metadata": {
            "tags": []
          },
          "execution_count": 19
        }
      ]
    },
    {
      "cell_type": "code",
      "metadata": {
        "colab": {
          "base_uri": "https://localhost:8080/"
        },
        "id": "fotuMiURW_oC",
        "outputId": "8359f0ba-3650-4f2d-d72e-2f8ec0bddde9"
      },
      "source": [
        "cv_model.best_params_"
      ],
      "execution_count": null,
      "outputs": [
        {
          "output_type": "execute_result",
          "data": {
            "text/plain": [
              "{'C': 10}"
            ]
          },
          "metadata": {
            "tags": []
          },
          "execution_count": 20
        }
      ]
    },
    {
      "cell_type": "markdown",
      "metadata": {
        "id": "uVahy6JKEEZQ"
      },
      "source": [
        "Выпишите какое лучшее качество и с какими параметрами вам удалось получить"
      ]
    },
    {
      "cell_type": "markdown",
      "metadata": {
        "id": "36729TOQEEZR"
      },
      "source": [
        ""
      ]
    },
    {
      "cell_type": "markdown",
      "metadata": {
        "id": "BlTeVy7fEEZR"
      },
      "source": [
        "## Применение градиентного бустинга (2 балла)\n",
        "\n",
        "Если вы хотите получить баллы за точный ответ, то стоит попробовать градиентный бустинг. Часто градиентный бустинг с дефолтными параметрами даст вам 80% результата за 0% усилий.\n",
        "\n",
        "Мы будем использовать catboost, поэтому нам не надо кодировать категориальные признаки. catboost сделает это сам (в .fit() надо передать cat_features=cat_cols). А численные признаки нормировать для моделей, основанных на деревьях не нужно.\n",
        "\n",
        "1) Разделите выборку на train/valid. Протестируйте catboost cо стандартными параметрами.\n",
        "\n",
        "2) Протестируйте разные занчения параметроа количества деревьев и learning_rate'а и выберите лучшую по метрике ROC-AUC комбинацию. \n",
        "\n",
        "(Дополнительно) Есть некоторые сложности с тем, чтобы использовать CatBoostClassifier вместе с GridSearchCV, поэтому мы не просим использовать кроссвалидацию. Но можете попробовать)"
      ]
    },
    {
      "cell_type": "code",
      "metadata": {
        "id": "Fioxxlp-EEZS",
        "colab": {
          "base_uri": "https://localhost:8080/"
        },
        "outputId": "125ceaab-ae8a-44cd-872a-a6557e3d40e6"
      },
      "source": [
        "!pip install catboost"
      ],
      "execution_count": null,
      "outputs": [
        {
          "output_type": "stream",
          "text": [
            "Collecting catboost\n",
            "\u001b[?25l  Downloading https://files.pythonhosted.org/packages/96/3b/bb419654adcf7efff42ed8a3f84e50c8f236424b7ed1cc8ccd290852e003/catboost-0.24.4-cp37-none-manylinux1_x86_64.whl (65.7MB)\n",
            "\u001b[K     |████████████████████████████████| 65.7MB 58kB/s \n",
            "\u001b[?25hRequirement already satisfied: scipy in /usr/local/lib/python3.7/dist-packages (from catboost) (1.4.1)\n",
            "Requirement already satisfied: six in /usr/local/lib/python3.7/dist-packages (from catboost) (1.15.0)\n",
            "Requirement already satisfied: matplotlib in /usr/local/lib/python3.7/dist-packages (from catboost) (3.2.2)\n",
            "Requirement already satisfied: pandas>=0.24.0 in /usr/local/lib/python3.7/dist-packages (from catboost) (1.1.5)\n",
            "Requirement already satisfied: numpy>=1.16.0 in /usr/local/lib/python3.7/dist-packages (from catboost) (1.19.5)\n",
            "Requirement already satisfied: graphviz in /usr/local/lib/python3.7/dist-packages (from catboost) (0.10.1)\n",
            "Requirement already satisfied: plotly in /usr/local/lib/python3.7/dist-packages (from catboost) (4.4.1)\n",
            "Requirement already satisfied: pyparsing!=2.0.4,!=2.1.2,!=2.1.6,>=2.0.1 in /usr/local/lib/python3.7/dist-packages (from matplotlib->catboost) (2.4.7)\n",
            "Requirement already satisfied: cycler>=0.10 in /usr/local/lib/python3.7/dist-packages (from matplotlib->catboost) (0.10.0)\n",
            "Requirement already satisfied: kiwisolver>=1.0.1 in /usr/local/lib/python3.7/dist-packages (from matplotlib->catboost) (1.3.1)\n",
            "Requirement already satisfied: python-dateutil>=2.1 in /usr/local/lib/python3.7/dist-packages (from matplotlib->catboost) (2.8.1)\n",
            "Requirement already satisfied: pytz>=2017.2 in /usr/local/lib/python3.7/dist-packages (from pandas>=0.24.0->catboost) (2018.9)\n",
            "Requirement already satisfied: retrying>=1.3.3 in /usr/local/lib/python3.7/dist-packages (from plotly->catboost) (1.3.3)\n",
            "Installing collected packages: catboost\n",
            "Successfully installed catboost-0.24.4\n"
          ],
          "name": "stdout"
        }
      ]
    },
    {
      "cell_type": "code",
      "metadata": {
        "id": "zAfT56Wqamlf"
      },
      "source": [
        "from catboost import CatBoostClassifier"
      ],
      "execution_count": null,
      "outputs": []
    },
    {
      "cell_type": "code",
      "metadata": {
        "id": "pdSAlHsMcMab"
      },
      "source": [
        "X_train_c, X_val_c, y_train_c, y_val_c = train_test_split(data[num_cols + cat_cols], \r\n",
        "                                                    data[target_col],\r\n",
        "                                                    test_size = 0.2, random_state = 42)"
      ],
      "execution_count": null,
      "outputs": []
    },
    {
      "cell_type": "code",
      "metadata": {
        "colab": {
          "base_uri": "https://localhost:8080/"
        },
        "id": "ZKE-OBK7atHF",
        "outputId": "0ac559f5-da71-45a5-d227-a685faf95b88"
      },
      "source": [
        "clf = CatBoostClassifier(iterations = 1000, learning_rate= 0.01)\r\n",
        "clf.fit(X_train_c, y_train_c, cat_features = cat_cols, eval_set = (X_val_c, y_val_c), verbose = 10)"
      ],
      "execution_count": null,
      "outputs": [
        {
          "output_type": "stream",
          "text": [
            "0:\tlearn: 0.6862712\ttest: 0.6861423\tbest: 0.6861423 (0)\ttotal: 68.1ms\tremaining: 1m 8s\n",
            "10:\tlearn: 0.6283213\ttest: 0.6268324\tbest: 0.6268324 (10)\ttotal: 198ms\tremaining: 17.8s\n",
            "20:\tlearn: 0.5831936\ttest: 0.5809042\tbest: 0.5809042 (20)\ttotal: 327ms\tremaining: 15.2s\n",
            "30:\tlearn: 0.5495687\ttest: 0.5469598\tbest: 0.5469598 (30)\ttotal: 451ms\tremaining: 14.1s\n",
            "40:\tlearn: 0.5222876\ttest: 0.5201108\tbest: 0.5201108 (40)\ttotal: 587ms\tremaining: 13.7s\n",
            "50:\tlearn: 0.5004006\ttest: 0.4985166\tbest: 0.4985166 (50)\ttotal: 708ms\tremaining: 13.2s\n",
            "60:\tlearn: 0.4839714\ttest: 0.4824682\tbest: 0.4824682 (60)\ttotal: 835ms\tremaining: 12.9s\n",
            "70:\tlearn: 0.4708091\ttest: 0.4698753\tbest: 0.4698753 (70)\ttotal: 982ms\tremaining: 12.8s\n",
            "80:\tlearn: 0.4595200\ttest: 0.4598614\tbest: 0.4598614 (80)\ttotal: 1.13s\tremaining: 12.8s\n",
            "90:\tlearn: 0.4506653\ttest: 0.4518910\tbest: 0.4518910 (90)\ttotal: 1.26s\tremaining: 12.6s\n",
            "100:\tlearn: 0.4431932\ttest: 0.4453046\tbest: 0.4453046 (100)\ttotal: 1.4s\tremaining: 12.5s\n",
            "110:\tlearn: 0.4373674\ttest: 0.4405072\tbest: 0.4405072 (110)\ttotal: 1.54s\tremaining: 12.3s\n",
            "120:\tlearn: 0.4322509\ttest: 0.4364174\tbest: 0.4364174 (120)\ttotal: 1.67s\tremaining: 12.1s\n",
            "130:\tlearn: 0.4277244\ttest: 0.4328242\tbest: 0.4328242 (130)\ttotal: 1.8s\tremaining: 12s\n",
            "140:\tlearn: 0.4242931\ttest: 0.4304364\tbest: 0.4304364 (140)\ttotal: 1.94s\tremaining: 11.8s\n",
            "150:\tlearn: 0.4210756\ttest: 0.4280476\tbest: 0.4280476 (150)\ttotal: 2.08s\tremaining: 11.7s\n",
            "160:\tlearn: 0.4181300\ttest: 0.4259135\tbest: 0.4259135 (160)\ttotal: 2.23s\tremaining: 11.6s\n",
            "170:\tlearn: 0.4157871\ttest: 0.4242607\tbest: 0.4242607 (170)\ttotal: 2.35s\tremaining: 11.4s\n",
            "180:\tlearn: 0.4132799\ttest: 0.4230116\tbest: 0.4230116 (180)\ttotal: 2.5s\tremaining: 11.3s\n",
            "190:\tlearn: 0.4113895\ttest: 0.4220215\tbest: 0.4220215 (190)\ttotal: 2.63s\tremaining: 11.1s\n",
            "200:\tlearn: 0.4094949\ttest: 0.4210511\tbest: 0.4210511 (200)\ttotal: 2.77s\tremaining: 11s\n",
            "210:\tlearn: 0.4081128\ttest: 0.4204243\tbest: 0.4204243 (210)\ttotal: 2.88s\tremaining: 10.8s\n",
            "220:\tlearn: 0.4065735\ttest: 0.4195868\tbest: 0.4195868 (220)\ttotal: 3.03s\tremaining: 10.7s\n",
            "230:\tlearn: 0.4052100\ttest: 0.4190086\tbest: 0.4190086 (230)\ttotal: 3.15s\tremaining: 10.5s\n",
            "240:\tlearn: 0.4038252\ttest: 0.4185223\tbest: 0.4185223 (240)\ttotal: 3.29s\tremaining: 10.4s\n",
            "250:\tlearn: 0.4025068\ttest: 0.4179316\tbest: 0.4179316 (250)\ttotal: 3.42s\tremaining: 10.2s\n",
            "260:\tlearn: 0.4009983\ttest: 0.4175614\tbest: 0.4175614 (260)\ttotal: 3.58s\tremaining: 10.1s\n",
            "270:\tlearn: 0.4002735\ttest: 0.4172238\tbest: 0.4172238 (270)\ttotal: 3.69s\tremaining: 9.94s\n",
            "280:\tlearn: 0.3994724\ttest: 0.4169608\tbest: 0.4169608 (280)\ttotal: 3.82s\tremaining: 9.77s\n",
            "290:\tlearn: 0.3985542\ttest: 0.4167235\tbest: 0.4167235 (290)\ttotal: 3.96s\tremaining: 9.65s\n",
            "300:\tlearn: 0.3978584\ttest: 0.4165420\tbest: 0.4165216 (298)\ttotal: 4.09s\tremaining: 9.49s\n",
            "310:\tlearn: 0.3970656\ttest: 0.4162421\tbest: 0.4162421 (310)\ttotal: 4.21s\tremaining: 9.32s\n",
            "320:\tlearn: 0.3958946\ttest: 0.4159919\tbest: 0.4159919 (320)\ttotal: 4.37s\tremaining: 9.24s\n",
            "330:\tlearn: 0.3952132\ttest: 0.4158799\tbest: 0.4158799 (330)\ttotal: 4.5s\tremaining: 9.09s\n",
            "340:\tlearn: 0.3944953\ttest: 0.4156280\tbest: 0.4156280 (340)\ttotal: 4.62s\tremaining: 8.93s\n",
            "350:\tlearn: 0.3937596\ttest: 0.4153462\tbest: 0.4153462 (350)\ttotal: 4.74s\tremaining: 8.76s\n",
            "360:\tlearn: 0.3931829\ttest: 0.4152704\tbest: 0.4152704 (360)\ttotal: 4.86s\tremaining: 8.6s\n",
            "370:\tlearn: 0.3923652\ttest: 0.4152716\tbest: 0.4152298 (367)\ttotal: 5.01s\tremaining: 8.5s\n",
            "380:\tlearn: 0.3916111\ttest: 0.4149263\tbest: 0.4149219 (379)\ttotal: 5.14s\tremaining: 8.36s\n",
            "390:\tlearn: 0.3910454\ttest: 0.4148623\tbest: 0.4148509 (385)\ttotal: 5.28s\tremaining: 8.22s\n",
            "400:\tlearn: 0.3904156\ttest: 0.4147995\tbest: 0.4147818 (396)\ttotal: 5.41s\tremaining: 8.07s\n",
            "410:\tlearn: 0.3896579\ttest: 0.4145922\tbest: 0.4145781 (409)\ttotal: 5.54s\tremaining: 7.94s\n",
            "420:\tlearn: 0.3890535\ttest: 0.4146994\tbest: 0.4145781 (409)\ttotal: 5.69s\tremaining: 7.83s\n",
            "430:\tlearn: 0.3882573\ttest: 0.4145719\tbest: 0.4145412 (427)\ttotal: 5.84s\tremaining: 7.71s\n",
            "440:\tlearn: 0.3878894\ttest: 0.4143982\tbest: 0.4143982 (440)\ttotal: 6s\tremaining: 7.6s\n",
            "450:\tlearn: 0.3872105\ttest: 0.4144136\tbest: 0.4143103 (444)\ttotal: 6.14s\tremaining: 7.47s\n",
            "460:\tlearn: 0.3865630\ttest: 0.4143463\tbest: 0.4143103 (444)\ttotal: 6.28s\tremaining: 7.35s\n",
            "470:\tlearn: 0.3861850\ttest: 0.4141252\tbest: 0.4141252 (470)\ttotal: 6.4s\tremaining: 7.18s\n",
            "480:\tlearn: 0.3857157\ttest: 0.4140610\tbest: 0.4140515 (478)\ttotal: 6.52s\tremaining: 7.04s\n",
            "490:\tlearn: 0.3850996\ttest: 0.4139523\tbest: 0.4139488 (487)\ttotal: 6.66s\tremaining: 6.9s\n",
            "500:\tlearn: 0.3846867\ttest: 0.4138927\tbest: 0.4138913 (499)\ttotal: 6.81s\tremaining: 6.79s\n",
            "510:\tlearn: 0.3843206\ttest: 0.4138626\tbest: 0.4138626 (510)\ttotal: 6.94s\tremaining: 6.64s\n",
            "520:\tlearn: 0.3840176\ttest: 0.4139168\tbest: 0.4138441 (517)\ttotal: 7.08s\tremaining: 6.51s\n",
            "530:\tlearn: 0.3836735\ttest: 0.4138456\tbest: 0.4138379 (527)\ttotal: 7.22s\tremaining: 6.38s\n",
            "540:\tlearn: 0.3833217\ttest: 0.4137389\tbest: 0.4137246 (535)\ttotal: 7.36s\tremaining: 6.25s\n",
            "550:\tlearn: 0.3828469\ttest: 0.4135990\tbest: 0.4135887 (548)\ttotal: 7.5s\tremaining: 6.11s\n",
            "560:\tlearn: 0.3822697\ttest: 0.4136157\tbest: 0.4135253 (557)\ttotal: 7.65s\tremaining: 5.99s\n",
            "570:\tlearn: 0.3819280\ttest: 0.4135867\tbest: 0.4135253 (557)\ttotal: 7.79s\tremaining: 5.85s\n",
            "580:\tlearn: 0.3813617\ttest: 0.4135148\tbest: 0.4134922 (579)\ttotal: 7.93s\tremaining: 5.72s\n",
            "590:\tlearn: 0.3811088\ttest: 0.4135455\tbest: 0.4134922 (579)\ttotal: 8.06s\tremaining: 5.58s\n",
            "600:\tlearn: 0.3806814\ttest: 0.4134672\tbest: 0.4134672 (600)\ttotal: 8.21s\tremaining: 5.45s\n",
            "610:\tlearn: 0.3803304\ttest: 0.4134475\tbest: 0.4134285 (605)\ttotal: 8.35s\tremaining: 5.31s\n",
            "620:\tlearn: 0.3799892\ttest: 0.4134109\tbest: 0.4134109 (620)\ttotal: 8.49s\tremaining: 5.18s\n",
            "630:\tlearn: 0.3795732\ttest: 0.4134930\tbest: 0.4133489 (622)\ttotal: 8.64s\tremaining: 5.05s\n",
            "640:\tlearn: 0.3791272\ttest: 0.4135236\tbest: 0.4133489 (622)\ttotal: 8.8s\tremaining: 4.93s\n",
            "650:\tlearn: 0.3788658\ttest: 0.4135429\tbest: 0.4133489 (622)\ttotal: 8.91s\tremaining: 4.78s\n",
            "660:\tlearn: 0.3784942\ttest: 0.4133270\tbest: 0.4133213 (659)\ttotal: 9.07s\tremaining: 4.65s\n",
            "670:\tlearn: 0.3780070\ttest: 0.4134327\tbest: 0.4133213 (659)\ttotal: 9.21s\tremaining: 4.51s\n",
            "680:\tlearn: 0.3775168\ttest: 0.4132672\tbest: 0.4132672 (680)\ttotal: 9.35s\tremaining: 4.38s\n",
            "690:\tlearn: 0.3770718\ttest: 0.4131609\tbest: 0.4131553 (687)\ttotal: 9.48s\tremaining: 4.24s\n",
            "700:\tlearn: 0.3766616\ttest: 0.4131316\tbest: 0.4131316 (700)\ttotal: 9.61s\tremaining: 4.1s\n",
            "710:\tlearn: 0.3761208\ttest: 0.4128996\tbest: 0.4128996 (710)\ttotal: 9.76s\tremaining: 3.97s\n",
            "720:\tlearn: 0.3755418\ttest: 0.4127409\tbest: 0.4127409 (720)\ttotal: 9.91s\tremaining: 3.83s\n",
            "730:\tlearn: 0.3751176\ttest: 0.4127456\tbest: 0.4127078 (727)\ttotal: 10.1s\tremaining: 3.7s\n",
            "740:\tlearn: 0.3745901\ttest: 0.4126408\tbest: 0.4126408 (740)\ttotal: 10.2s\tremaining: 3.57s\n",
            "750:\tlearn: 0.3741637\ttest: 0.4126265\tbest: 0.4125457 (748)\ttotal: 10.3s\tremaining: 3.43s\n",
            "760:\tlearn: 0.3737442\ttest: 0.4125627\tbest: 0.4125457 (748)\ttotal: 10.5s\tremaining: 3.29s\n",
            "770:\tlearn: 0.3730848\ttest: 0.4125050\tbest: 0.4124788 (767)\ttotal: 10.6s\tremaining: 3.16s\n",
            "780:\tlearn: 0.3726107\ttest: 0.4125098\tbest: 0.4124788 (767)\ttotal: 10.8s\tremaining: 3.02s\n",
            "790:\tlearn: 0.3722608\ttest: 0.4125139\tbest: 0.4124788 (767)\ttotal: 10.9s\tremaining: 2.88s\n",
            "800:\tlearn: 0.3717560\ttest: 0.4125999\tbest: 0.4124788 (767)\ttotal: 11.1s\tremaining: 2.75s\n",
            "810:\tlearn: 0.3712485\ttest: 0.4126182\tbest: 0.4124788 (767)\ttotal: 11.2s\tremaining: 2.61s\n",
            "820:\tlearn: 0.3706590\ttest: 0.4125597\tbest: 0.4124788 (767)\ttotal: 11.4s\tremaining: 2.48s\n",
            "830:\tlearn: 0.3701272\ttest: 0.4124785\tbest: 0.4124777 (827)\ttotal: 11.5s\tremaining: 2.34s\n",
            "840:\tlearn: 0.3697818\ttest: 0.4124244\tbest: 0.4124244 (840)\ttotal: 11.7s\tremaining: 2.2s\n",
            "850:\tlearn: 0.3691995\ttest: 0.4125296\tbest: 0.4124244 (840)\ttotal: 11.8s\tremaining: 2.07s\n",
            "860:\tlearn: 0.3686888\ttest: 0.4125526\tbest: 0.4124244 (840)\ttotal: 12s\tremaining: 1.93s\n",
            "870:\tlearn: 0.3680862\ttest: 0.4123896\tbest: 0.4123896 (870)\ttotal: 12.1s\tremaining: 1.79s\n",
            "880:\tlearn: 0.3674406\ttest: 0.4125500\tbest: 0.4123672 (871)\ttotal: 12.3s\tremaining: 1.66s\n",
            "890:\tlearn: 0.3669092\ttest: 0.4125070\tbest: 0.4123672 (871)\ttotal: 12.4s\tremaining: 1.52s\n",
            "900:\tlearn: 0.3661469\ttest: 0.4125441\tbest: 0.4123672 (871)\ttotal: 12.6s\tremaining: 1.38s\n",
            "910:\tlearn: 0.3656764\ttest: 0.4125476\tbest: 0.4123672 (871)\ttotal: 12.7s\tremaining: 1.24s\n",
            "920:\tlearn: 0.3651680\ttest: 0.4124175\tbest: 0.4123672 (871)\ttotal: 12.9s\tremaining: 1.11s\n",
            "930:\tlearn: 0.3646734\ttest: 0.4124261\tbest: 0.4123672 (871)\ttotal: 13.1s\tremaining: 968ms\n",
            "940:\tlearn: 0.3638899\ttest: 0.4124269\tbest: 0.4123672 (871)\ttotal: 13.2s\tremaining: 829ms\n",
            "950:\tlearn: 0.3632784\ttest: 0.4124726\tbest: 0.4123672 (871)\ttotal: 13.4s\tremaining: 689ms\n",
            "960:\tlearn: 0.3626541\ttest: 0.4124525\tbest: 0.4123672 (871)\ttotal: 13.5s\tremaining: 549ms\n",
            "970:\tlearn: 0.3620559\ttest: 0.4126159\tbest: 0.4123672 (871)\ttotal: 13.7s\tremaining: 409ms\n",
            "980:\tlearn: 0.3614606\ttest: 0.4125816\tbest: 0.4123672 (871)\ttotal: 13.9s\tremaining: 268ms\n",
            "990:\tlearn: 0.3607822\ttest: 0.4125213\tbest: 0.4123672 (871)\ttotal: 14s\tremaining: 127ms\n",
            "999:\tlearn: 0.3601332\ttest: 0.4125586\tbest: 0.4123672 (871)\ttotal: 14.2s\tremaining: 0us\n",
            "\n",
            "bestTest = 0.4123672275\n",
            "bestIteration = 871\n",
            "\n",
            "Shrink model to first 872 iterations.\n"
          ],
          "name": "stdout"
        },
        {
          "output_type": "execute_result",
          "data": {
            "text/plain": [
              "<catboost.core.CatBoostClassifier at 0x7f5084e87e10>"
            ]
          },
          "metadata": {
            "tags": []
          },
          "execution_count": 26
        }
      ]
    },
    {
      "cell_type": "code",
      "metadata": {
        "colab": {
          "base_uri": "https://localhost:8080/"
        },
        "id": "II7pYgx3eFqE",
        "outputId": "46eb5fdf-d1d4-4327-aac9-fb748e1916eb"
      },
      "source": [
        "predictions = clf.predict_proba(X_val_c)[:,1]\r\n",
        "roc_auc_score(y_val_c, predictions)"
      ],
      "execution_count": null,
      "outputs": [
        {
          "output_type": "execute_result",
          "data": {
            "text/plain": [
              "0.8415734843123378"
            ]
          },
          "metadata": {
            "tags": []
          },
          "execution_count": 27
        }
      ]
    },
    {
      "cell_type": "code",
      "metadata": {
        "id": "zglTxVDvsKx-"
      },
      "source": [
        "X_test = pd.read_csv('./test.csv')"
      ],
      "execution_count": null,
      "outputs": []
    },
    {
      "cell_type": "code",
      "metadata": {
        "colab": {
          "base_uri": "https://localhost:8080/"
        },
        "id": "jy-bNJ6IsNKD",
        "outputId": "a2dd3be3-aed5-4a08-b684-978aa4351502"
      },
      "source": [
        "X_test.isna().sum()\r\n",
        "print(X_test.shape)"
      ],
      "execution_count": null,
      "outputs": [
        {
          "output_type": "stream",
          "text": [
            "(1761, 19)\n"
          ],
          "name": "stdout"
        }
      ]
    },
    {
      "cell_type": "code",
      "metadata": {
        "colab": {
          "base_uri": "https://localhost:8080/"
        },
        "id": "P19x8gPZsUk1",
        "outputId": "9040fed9-dcc1-4add-ca34-5a8f13e63fd7"
      },
      "source": [
        "indices = check_spaces(X_test)\r\n",
        "print(indices)"
      ],
      "execution_count": null,
      "outputs": [
        {
          "output_type": "stream",
          "text": [
            "column =  ClientPeriod\n",
            "column =  MonthlySpending\n",
            "column =  TotalSpent\n",
            "177\n",
            "767\n",
            "\n",
            "cat column =  Sex\n",
            "0\n",
            "cat column =  IsSeniorCitizen\n",
            "0\n",
            "cat column =  HasPartner\n",
            "0\n",
            "cat column =  HasChild\n",
            "0\n",
            "cat column =  HasPhoneService\n",
            "0\n",
            "cat column =  HasMultiplePhoneNumbers\n",
            "0\n",
            "cat column =  HasInternetService\n",
            "0\n",
            "cat column =  HasOnlineSecurityService\n",
            "0\n",
            "cat column =  HasOnlineBackup\n",
            "0\n",
            "cat column =  HasDeviceProtection\n",
            "0\n",
            "cat column =  HasTechSupportAccess\n",
            "0\n",
            "cat column =  HasOnlineTV\n",
            "0\n",
            "cat column =  HasMovieSubscription\n",
            "0\n",
            "cat column =  HasContractPhone\n",
            "0\n",
            "cat column =  IsBillingPaperless\n",
            "0\n",
            "cat column =  PaymentMethod\n",
            "0\n",
            "[177, 767]\n"
          ],
          "name": "stdout"
        }
      ]
    },
    {
      "cell_type": "code",
      "metadata": {
        "colab": {
          "base_uri": "https://localhost:8080/"
        },
        "id": "T9W4a7LrvygN",
        "outputId": "0d94e78b-a2ff-4af4-a21f-a399d93f62e8"
      },
      "source": [
        "X_test['TotalSpent'][indices] = '0'\r\n",
        "X_test['TotalSpent'] = pd.to_numeric(X_test['TotalSpent'])"
      ],
      "execution_count": null,
      "outputs": [
        {
          "output_type": "stream",
          "text": [
            "/usr/local/lib/python3.7/dist-packages/ipykernel_launcher.py:1: SettingWithCopyWarning: \n",
            "A value is trying to be set on a copy of a slice from a DataFrame\n",
            "\n",
            "See the caveats in the documentation: https://pandas.pydata.org/pandas-docs/stable/user_guide/indexing.html#returning-a-view-versus-a-copy\n",
            "  \"\"\"Entry point for launching an IPython kernel.\n"
          ],
          "name": "stderr"
        }
      ]
    },
    {
      "cell_type": "code",
      "metadata": {
        "colab": {
          "base_uri": "https://localhost:8080/"
        },
        "id": "ebkPDXHotDDh",
        "outputId": "4907dc31-2d53-411d-d554-c3dd1a0ce51b"
      },
      "source": [
        "coef = 0\r\n",
        "for i in range(len(X_test)):\r\n",
        "    if i == 177 or i == 767:\r\n",
        "        continue\r\n",
        "    coef += X_test['TotalSpent'][i] / X_test['MonthlySpending'][i]\r\n",
        "coef /= len(X_test)-2\r\n",
        "print(coef)"
      ],
      "execution_count": null,
      "outputs": [
        {
          "output_type": "stream",
          "text": [
            "32.34802653182898\n"
          ],
          "name": "stdout"
        }
      ]
    },
    {
      "cell_type": "code",
      "metadata": {
        "colab": {
          "base_uri": "https://localhost:8080/"
        },
        "id": "1oGrRM9dx-h6",
        "outputId": "109e96ff-d3f3-44e7-c7b4-6f477ff93cce"
      },
      "source": [
        "X_test['TotalSpent'][177] = X_test['MonthlySpending'][177] * coef\r\n",
        "X_test['TotalSpent'][767] = X_test['MonthlySpending'][767] * coef"
      ],
      "execution_count": null,
      "outputs": [
        {
          "output_type": "stream",
          "text": [
            "/usr/local/lib/python3.7/dist-packages/ipykernel_launcher.py:1: SettingWithCopyWarning: \n",
            "A value is trying to be set on a copy of a slice from a DataFrame\n",
            "\n",
            "See the caveats in the documentation: https://pandas.pydata.org/pandas-docs/stable/user_guide/indexing.html#returning-a-view-versus-a-copy\n",
            "  \"\"\"Entry point for launching an IPython kernel.\n",
            "/usr/local/lib/python3.7/dist-packages/ipykernel_launcher.py:2: SettingWithCopyWarning: \n",
            "A value is trying to be set on a copy of a slice from a DataFrame\n",
            "\n",
            "See the caveats in the documentation: https://pandas.pydata.org/pandas-docs/stable/user_guide/indexing.html#returning-a-view-versus-a-copy\n",
            "  \n"
          ],
          "name": "stderr"
        }
      ]
    },
    {
      "cell_type": "code",
      "metadata": {
        "colab": {
          "base_uri": "https://localhost:8080/"
        },
        "id": "f8vFA74MyLGS",
        "outputId": "5e538fa6-a303-4270-8606-8cc1bab0ad42"
      },
      "source": [
        "X_test['TotalSpent'][767]"
      ],
      "execution_count": null,
      "outputs": [
        {
          "output_type": "execute_result",
          "data": {
            "text/plain": [
              "655.0475372695369"
            ]
          },
          "metadata": {
            "tags": []
          },
          "execution_count": 35
        }
      ]
    },
    {
      "cell_type": "code",
      "metadata": {
        "id": "GDRW0tctqwwk"
      },
      "source": [
        "dummy_cats_test = pd.get_dummies(X_test[cat_cols])"
      ],
      "execution_count": null,
      "outputs": []
    },
    {
      "cell_type": "code",
      "metadata": {
        "colab": {
          "base_uri": "https://localhost:8080/",
          "height": 258
        },
        "id": "be4y8Wtwreab",
        "outputId": "9af3b47f-daaa-41a7-a2e1-0ee20d3f2bec"
      },
      "source": [
        "scaler = StandardScaler()\r\n",
        "X_test[num_cols] = scaler.fit_transform(X_test[num_cols])\r\n",
        "test_norm_data = pd.concat([X_test[num_cols],dummy_cats_test],axis = 1)\r\n",
        "test_norm_data.head()"
      ],
      "execution_count": null,
      "outputs": [
        {
          "output_type": "execute_result",
          "data": {
            "text/html": [
              "<div>\n",
              "<style scoped>\n",
              "    .dataframe tbody tr th:only-of-type {\n",
              "        vertical-align: middle;\n",
              "    }\n",
              "\n",
              "    .dataframe tbody tr th {\n",
              "        vertical-align: top;\n",
              "    }\n",
              "\n",
              "    .dataframe thead th {\n",
              "        text-align: right;\n",
              "    }\n",
              "</style>\n",
              "<table border=\"1\" class=\"dataframe\">\n",
              "  <thead>\n",
              "    <tr style=\"text-align: right;\">\n",
              "      <th></th>\n",
              "      <th>ClientPeriod</th>\n",
              "      <th>MonthlySpending</th>\n",
              "      <th>TotalSpent</th>\n",
              "      <th>IsSeniorCitizen</th>\n",
              "      <th>Sex_Female</th>\n",
              "      <th>Sex_Male</th>\n",
              "      <th>HasPartner_No</th>\n",
              "      <th>HasPartner_Yes</th>\n",
              "      <th>HasChild_No</th>\n",
              "      <th>HasChild_Yes</th>\n",
              "      <th>HasPhoneService_No</th>\n",
              "      <th>HasPhoneService_Yes</th>\n",
              "      <th>HasMultiplePhoneNumbers_No</th>\n",
              "      <th>HasMultiplePhoneNumbers_No phone service</th>\n",
              "      <th>HasMultiplePhoneNumbers_Yes</th>\n",
              "      <th>HasInternetService_DSL</th>\n",
              "      <th>HasInternetService_Fiber optic</th>\n",
              "      <th>HasInternetService_No</th>\n",
              "      <th>HasOnlineSecurityService_No</th>\n",
              "      <th>HasOnlineSecurityService_No internet service</th>\n",
              "      <th>HasOnlineSecurityService_Yes</th>\n",
              "      <th>HasOnlineBackup_No</th>\n",
              "      <th>HasOnlineBackup_No internet service</th>\n",
              "      <th>HasOnlineBackup_Yes</th>\n",
              "      <th>HasDeviceProtection_No</th>\n",
              "      <th>HasDeviceProtection_No internet service</th>\n",
              "      <th>HasDeviceProtection_Yes</th>\n",
              "      <th>HasTechSupportAccess_No</th>\n",
              "      <th>HasTechSupportAccess_No internet service</th>\n",
              "      <th>HasTechSupportAccess_Yes</th>\n",
              "      <th>HasOnlineTV_No</th>\n",
              "      <th>HasOnlineTV_No internet service</th>\n",
              "      <th>HasOnlineTV_Yes</th>\n",
              "      <th>HasMovieSubscription_No</th>\n",
              "      <th>HasMovieSubscription_No internet service</th>\n",
              "      <th>HasMovieSubscription_Yes</th>\n",
              "      <th>HasContractPhone_Month-to-month</th>\n",
              "      <th>HasContractPhone_One year</th>\n",
              "      <th>HasContractPhone_Two year</th>\n",
              "      <th>IsBillingPaperless_No</th>\n",
              "      <th>IsBillingPaperless_Yes</th>\n",
              "      <th>PaymentMethod_Bank transfer (automatic)</th>\n",
              "      <th>PaymentMethod_Credit card (automatic)</th>\n",
              "      <th>PaymentMethod_Electronic check</th>\n",
              "      <th>PaymentMethod_Mailed check</th>\n",
              "    </tr>\n",
              "  </thead>\n",
              "  <tbody>\n",
              "    <tr>\n",
              "      <th>0</th>\n",
              "      <td>0.394782</td>\n",
              "      <td>-0.274027</td>\n",
              "      <td>0.057378</td>\n",
              "      <td>0</td>\n",
              "      <td>0</td>\n",
              "      <td>1</td>\n",
              "      <td>0</td>\n",
              "      <td>1</td>\n",
              "      <td>1</td>\n",
              "      <td>0</td>\n",
              "      <td>0</td>\n",
              "      <td>1</td>\n",
              "      <td>0</td>\n",
              "      <td>0</td>\n",
              "      <td>1</td>\n",
              "      <td>1</td>\n",
              "      <td>0</td>\n",
              "      <td>0</td>\n",
              "      <td>0</td>\n",
              "      <td>0</td>\n",
              "      <td>1</td>\n",
              "      <td>1</td>\n",
              "      <td>0</td>\n",
              "      <td>0</td>\n",
              "      <td>1</td>\n",
              "      <td>0</td>\n",
              "      <td>0</td>\n",
              "      <td>1</td>\n",
              "      <td>0</td>\n",
              "      <td>0</td>\n",
              "      <td>1</td>\n",
              "      <td>0</td>\n",
              "      <td>0</td>\n",
              "      <td>1</td>\n",
              "      <td>0</td>\n",
              "      <td>0</td>\n",
              "      <td>0</td>\n",
              "      <td>1</td>\n",
              "      <td>0</td>\n",
              "      <td>1</td>\n",
              "      <td>0</td>\n",
              "      <td>0</td>\n",
              "      <td>1</td>\n",
              "      <td>0</td>\n",
              "      <td>0</td>\n",
              "    </tr>\n",
              "    <tr>\n",
              "      <th>1</th>\n",
              "      <td>-0.133958</td>\n",
              "      <td>1.147644</td>\n",
              "      <td>0.330613</td>\n",
              "      <td>1</td>\n",
              "      <td>0</td>\n",
              "      <td>1</td>\n",
              "      <td>0</td>\n",
              "      <td>1</td>\n",
              "      <td>1</td>\n",
              "      <td>0</td>\n",
              "      <td>0</td>\n",
              "      <td>1</td>\n",
              "      <td>0</td>\n",
              "      <td>0</td>\n",
              "      <td>1</td>\n",
              "      <td>0</td>\n",
              "      <td>1</td>\n",
              "      <td>0</td>\n",
              "      <td>1</td>\n",
              "      <td>0</td>\n",
              "      <td>0</td>\n",
              "      <td>1</td>\n",
              "      <td>0</td>\n",
              "      <td>0</td>\n",
              "      <td>0</td>\n",
              "      <td>0</td>\n",
              "      <td>1</td>\n",
              "      <td>1</td>\n",
              "      <td>0</td>\n",
              "      <td>0</td>\n",
              "      <td>0</td>\n",
              "      <td>0</td>\n",
              "      <td>1</td>\n",
              "      <td>0</td>\n",
              "      <td>0</td>\n",
              "      <td>1</td>\n",
              "      <td>1</td>\n",
              "      <td>0</td>\n",
              "      <td>0</td>\n",
              "      <td>0</td>\n",
              "      <td>1</td>\n",
              "      <td>0</td>\n",
              "      <td>0</td>\n",
              "      <td>1</td>\n",
              "      <td>0</td>\n",
              "    </tr>\n",
              "    <tr>\n",
              "      <th>2</th>\n",
              "      <td>-0.947404</td>\n",
              "      <td>0.401602</td>\n",
              "      <td>-0.695976</td>\n",
              "      <td>0</td>\n",
              "      <td>0</td>\n",
              "      <td>1</td>\n",
              "      <td>1</td>\n",
              "      <td>0</td>\n",
              "      <td>1</td>\n",
              "      <td>0</td>\n",
              "      <td>0</td>\n",
              "      <td>1</td>\n",
              "      <td>0</td>\n",
              "      <td>0</td>\n",
              "      <td>1</td>\n",
              "      <td>0</td>\n",
              "      <td>1</td>\n",
              "      <td>0</td>\n",
              "      <td>1</td>\n",
              "      <td>0</td>\n",
              "      <td>0</td>\n",
              "      <td>1</td>\n",
              "      <td>0</td>\n",
              "      <td>0</td>\n",
              "      <td>1</td>\n",
              "      <td>0</td>\n",
              "      <td>0</td>\n",
              "      <td>1</td>\n",
              "      <td>0</td>\n",
              "      <td>0</td>\n",
              "      <td>1</td>\n",
              "      <td>0</td>\n",
              "      <td>0</td>\n",
              "      <td>1</td>\n",
              "      <td>0</td>\n",
              "      <td>0</td>\n",
              "      <td>1</td>\n",
              "      <td>0</td>\n",
              "      <td>0</td>\n",
              "      <td>0</td>\n",
              "      <td>1</td>\n",
              "      <td>0</td>\n",
              "      <td>0</td>\n",
              "      <td>1</td>\n",
              "      <td>0</td>\n",
              "    </tr>\n",
              "    <tr>\n",
              "      <th>3</th>\n",
              "      <td>1.411590</td>\n",
              "      <td>0.326160</td>\n",
              "      <td>1.155783</td>\n",
              "      <td>0</td>\n",
              "      <td>1</td>\n",
              "      <td>0</td>\n",
              "      <td>0</td>\n",
              "      <td>1</td>\n",
              "      <td>0</td>\n",
              "      <td>1</td>\n",
              "      <td>0</td>\n",
              "      <td>1</td>\n",
              "      <td>0</td>\n",
              "      <td>0</td>\n",
              "      <td>1</td>\n",
              "      <td>1</td>\n",
              "      <td>0</td>\n",
              "      <td>0</td>\n",
              "      <td>0</td>\n",
              "      <td>0</td>\n",
              "      <td>1</td>\n",
              "      <td>0</td>\n",
              "      <td>0</td>\n",
              "      <td>1</td>\n",
              "      <td>1</td>\n",
              "      <td>0</td>\n",
              "      <td>0</td>\n",
              "      <td>0</td>\n",
              "      <td>0</td>\n",
              "      <td>1</td>\n",
              "      <td>0</td>\n",
              "      <td>0</td>\n",
              "      <td>1</td>\n",
              "      <td>1</td>\n",
              "      <td>0</td>\n",
              "      <td>0</td>\n",
              "      <td>0</td>\n",
              "      <td>0</td>\n",
              "      <td>1</td>\n",
              "      <td>1</td>\n",
              "      <td>0</td>\n",
              "      <td>0</td>\n",
              "      <td>1</td>\n",
              "      <td>0</td>\n",
              "      <td>0</td>\n",
              "    </tr>\n",
              "    <tr>\n",
              "      <th>4</th>\n",
              "      <td>1.574279</td>\n",
              "      <td>-1.481107</td>\n",
              "      <td>-0.384033</td>\n",
              "      <td>0</td>\n",
              "      <td>1</td>\n",
              "      <td>0</td>\n",
              "      <td>0</td>\n",
              "      <td>1</td>\n",
              "      <td>0</td>\n",
              "      <td>1</td>\n",
              "      <td>0</td>\n",
              "      <td>1</td>\n",
              "      <td>1</td>\n",
              "      <td>0</td>\n",
              "      <td>0</td>\n",
              "      <td>0</td>\n",
              "      <td>0</td>\n",
              "      <td>1</td>\n",
              "      <td>0</td>\n",
              "      <td>1</td>\n",
              "      <td>0</td>\n",
              "      <td>0</td>\n",
              "      <td>1</td>\n",
              "      <td>0</td>\n",
              "      <td>0</td>\n",
              "      <td>1</td>\n",
              "      <td>0</td>\n",
              "      <td>0</td>\n",
              "      <td>1</td>\n",
              "      <td>0</td>\n",
              "      <td>0</td>\n",
              "      <td>1</td>\n",
              "      <td>0</td>\n",
              "      <td>0</td>\n",
              "      <td>1</td>\n",
              "      <td>0</td>\n",
              "      <td>0</td>\n",
              "      <td>0</td>\n",
              "      <td>1</td>\n",
              "      <td>1</td>\n",
              "      <td>0</td>\n",
              "      <td>1</td>\n",
              "      <td>0</td>\n",
              "      <td>0</td>\n",
              "      <td>0</td>\n",
              "    </tr>\n",
              "  </tbody>\n",
              "</table>\n",
              "</div>"
            ],
            "text/plain": [
              "   ClientPeriod  ...  PaymentMethod_Mailed check\n",
              "0      0.394782  ...                           0\n",
              "1     -0.133958  ...                           0\n",
              "2     -0.947404  ...                           0\n",
              "3      1.411590  ...                           0\n",
              "4      1.574279  ...                           0\n",
              "\n",
              "[5 rows x 45 columns]"
            ]
          },
          "metadata": {
            "tags": []
          },
          "execution_count": 37
        }
      ]
    },
    {
      "cell_type": "markdown",
      "metadata": {
        "id": "rf4Kjt96EEZU"
      },
      "source": [
        "Выпишите какое лучшее качество и с какими параметрами вам удалось получить"
      ]
    },
    {
      "cell_type": "markdown",
      "metadata": {
        "id": "d2d9GolXEEZV"
      },
      "source": [
        ""
      ]
    },
    {
      "cell_type": "markdown",
      "metadata": {
        "id": "dDMXbvNZEEZV"
      },
      "source": [
        "# Предсказания"
      ]
    },
    {
      "cell_type": "code",
      "metadata": {
        "id": "G_P4wFNaEEZW"
      },
      "source": [
        "best_model = cv_model.best_estimator_"
      ],
      "execution_count": null,
      "outputs": []
    },
    {
      "cell_type": "code",
      "metadata": {
        "id": "FfSufx0CEEZZ",
        "colab": {
          "base_uri": "https://localhost:8080/"
        },
        "outputId": "dfbab033-4053-494d-fb4c-95afeef6ffc0"
      },
      "source": [
        "submission = pd.read_csv('./submission.csv')\n",
        "print(submission.columns)\n",
        "submission['Churn'] = best_model.predict_proba(test_norm_data)[:,1]\n",
        "print(submission.columns)\n",
        "submission.to_csv('./my_submission.csv', index = False)"
      ],
      "execution_count": null,
      "outputs": [
        {
          "output_type": "stream",
          "text": [
            "Index(['Id', 'Churn'], dtype='object')\n",
            "Index(['Id', 'Churn'], dtype='object')\n"
          ],
          "name": "stdout"
        }
      ]
    },
    {
      "cell_type": "markdown",
      "metadata": {
        "id": "mkxjbGkVEEZc"
      },
      "source": [
        "# Kaggle (5 баллов)\n",
        "\n",
        "Как выставить баллы:\n",
        "\n",
        "1) 1 >= roc auc > 0.84 это 5 баллов\n",
        "\n",
        "2) 0.84 >= roc auc > 0.7 это 3 балла\n",
        "\n",
        "3) 0.7 >= roc auc > 0.6 это 1 балл\n",
        "\n",
        "4) 0.6 >= roc auc это 0 баллов\n",
        "\n",
        "\n",
        "Для выполнения задания необходимо выполнить следующие шаги.\n",
        "* Зарегистрироваться на платформе [kaggle.com](kaggle.com). Процесс выставления оценок будет проходить при подведении итогового рейтинга. Пожалуйста, укажите во вкладке Team -> Team name свои имя и фамилию в формате Имя_Фамилия (важно, чтобы имя и фамилия совпадали с данными на Stepik).\n",
        "* Обучить модель, получить файл с ответами в формате .csv и сдать его в конкурс. Пробуйте и экспериментируйте. Обратите внимание, что вы можете выполнять до 20 попыток сдачи на kaggle в день.\n",
        "* После окончания соревнования отправить в итоговый ноутбук с решением на степик. \n",
        "* После дедлайна проверьте посылки других участников по критериям. Для этого надо зайти на степик, скачать их ноутбук и проверить скор в соревновании."
      ]
    }
  ]
}